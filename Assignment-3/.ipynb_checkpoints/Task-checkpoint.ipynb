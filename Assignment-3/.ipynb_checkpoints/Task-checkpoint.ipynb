{
 "cells": [
  {
   "cell_type": "code",
   "execution_count": 3,
   "id": "c133e4e0-0642-4280-bd93-8eb2241a83c6",
   "metadata": {
    "tags": []
   },
   "outputs": [
    {
     "name": "stdout",
     "output_type": "stream",
     "text": [
      "Binary Matrix:\n",
      "   schoolsup  famsup  paid  activities  nursery  higher  internet  romantic\n",
      "0          1       0     0           0        1       1         0         0\n",
      "1          0       1     0           0        0       1         1         0\n",
      "2          1       0     1           0        1       1         1         0\n",
      "3          0       1     1           1        1       1         1         1\n",
      "4          0       1     1           0        1       1         0         0\n",
      "\n",
      "Numerical Matrix:\n",
      "   age  traveltime  studytime  failures  famrel  freetime  goout  Dalc  Walc  \\\n",
      "0   18           2          2         0       4         3      4     1     1   \n",
      "1   17           1          2         0       5         3      3     1     1   \n",
      "2   15           1          2         3       4         3      2     2     3   \n",
      "3   15           1          3         0       3         2      2     1     1   \n",
      "4   16           1          2         0       4         3      2     1     2   \n",
      "\n",
      "   health  absences  G1  G2  G3  \n",
      "0       3         6   5   6   6  \n",
      "1       3         4   5   5   6  \n",
      "2       3        10   7   8  10  \n",
      "3       5         2  15  14  15  \n",
      "4       5         4   6  10  10  \n",
      "\n",
      "Nominal Matrix:\n",
      "   Medu  Fedu  school_GP  school_MS  sex_F  sex_M  address_R  address_U  \\\n",
      "0     4     4          1          0      1      0          0          1   \n",
      "1     1     1          1          0      1      0          0          1   \n",
      "2     1     1          1          0      1      0          0          1   \n",
      "3     4     2          1          0      1      0          0          1   \n",
      "4     3     3          1          0      1      0          0          1   \n",
      "\n",
      "   famsize_GT3  famsize_LE3  ...  Fjob_other  Fjob_services  Fjob_teacher  \\\n",
      "0            1            0  ...           0              0             1   \n",
      "1            1            0  ...           1              0             0   \n",
      "2            0            1  ...           1              0             0   \n",
      "3            1            0  ...           0              1             0   \n",
      "4            1            0  ...           1              0             0   \n",
      "\n",
      "   reason_course  reason_home  reason_other  reason_reputation  \\\n",
      "0              1            0             0                  0   \n",
      "1              1            0             0                  0   \n",
      "2              0            0             1                  0   \n",
      "3              0            1             0                  0   \n",
      "4              0            1             0                  0   \n",
      "\n",
      "   guardian_father  guardian_mother  guardian_other  \n",
      "0                0                1               0  \n",
      "1                1                0               0  \n",
      "2                0                1               0  \n",
      "3                0                1               0  \n",
      "4                1                0               0  \n",
      "\n",
      "[5 rows x 29 columns]\n"
     ]
    }
   ],
   "source": [
    "import pandas as pd\n",
    "\n",
    "# Load the dataset\n",
    "data = pd.read_csv(\"student-mat.csv\", sep=\";\")\n",
    "\n",
    "# Binary attributes: Convert \"yes\" to 1 and \"no\" to 0\n",
    "binary_attributes = [\"schoolsup\", \"famsup\", \"paid\", \"activities\", \"nursery\", \"higher\", \"internet\", \"romantic\"]\n",
    "binary_matrix = data[binary_attributes].apply(lambda x: x.map({\"yes\": 1, \"no\": 0}))\n",
    "\n",
    "# Numerical attributes\n",
    "numerical_attributes = [\"age\", \"traveltime\", \"studytime\", \"failures\", \"famrel\", \"freetime\", \"goout\", \"Dalc\", \"Walc\", \"health\", \"absences\", \"G1\", \"G2\", \"G3\"]\n",
    "numerical_matrix = data[numerical_attributes]\n",
    "\n",
    "# Nominal attributes: Apply one-hot encoding\n",
    "nominal_attributes = [\"school\", \"sex\", \"address\", \"famsize\", \"Pstatus\", \"Medu\", \"Fedu\", \"Mjob\", \"Fjob\", \"reason\", \"guardian\"]\n",
    "nominal_matrix = pd.get_dummies(data[nominal_attributes])\n",
    "\n",
    "# Print the first few rows of each matrix for verification\n",
    "print(\"Binary Matrix:\")\n",
    "print(binary_matrix.head())\n",
    "print(\"\\nNumerical Matrix:\")\n",
    "print(numerical_matrix.head())\n",
    "print(\"\\nNominal Matrix:\")\n",
    "print(nominal_matrix.head())\n"
   ]
  },
  {
   "cell_type": "code",
   "execution_count": 2,
   "id": "d852ec0c-2e23-4942-8d60-9fa8c38510e4",
   "metadata": {
    "tags": []
   },
   "outputs": [],
   "source": []
  },
  {
   "cell_type": "code",
   "execution_count": null,
   "id": "1a4abd2d-51fa-4394-a313-452058d2a9c8",
   "metadata": {},
   "outputs": [],
   "source": []
  }
 ],
 "metadata": {
  "kernelspec": {
   "display_name": "Python 3 (ipykernel)",
   "language": "python",
   "name": "python3"
  },
  "language_info": {
   "codemirror_mode": {
    "name": "ipython",
    "version": 3
   },
   "file_extension": ".py",
   "mimetype": "text/x-python",
   "name": "python",
   "nbconvert_exporter": "python",
   "pygments_lexer": "ipython3",
   "version": "3.11.3"
  }
 },
 "nbformat": 4,
 "nbformat_minor": 5
}
