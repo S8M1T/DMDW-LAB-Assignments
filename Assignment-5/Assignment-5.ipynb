{
 "cells": [
  {
   "cell_type": "code",
   "execution_count": 5,
   "id": "30c3c857-63f1-498e-9b1b-0d88a5e76e9d",
   "metadata": {},
   "outputs": [
    {
     "ename": "ModuleNotFoundError",
     "evalue": "No module named 'numpy'",
     "output_type": "error",
     "traceback": [
      "\u001b[0;31m---------------------------------------------------------------------------\u001b[0m",
      "\u001b[0;31mModuleNotFoundError\u001b[0m                       Traceback (most recent call last)",
      "Cell \u001b[0;32mIn[5], line 1\u001b[0m\n\u001b[0;32m----> 1\u001b[0m \u001b[38;5;28;01mimport\u001b[39;00m \u001b[38;5;21;01mnumpy\u001b[39;00m \u001b[38;5;28;01mas\u001b[39;00m \u001b[38;5;21;01mnp\u001b[39;00m\n\u001b[1;32m      3\u001b[0m \u001b[38;5;66;03m# Decimal Scaling Normalization\u001b[39;00m\n\u001b[1;32m      4\u001b[0m \u001b[38;5;28;01mdef\u001b[39;00m \u001b[38;5;21mdecimal_scaling\u001b[39m(data):\n",
      "\u001b[0;31mModuleNotFoundError\u001b[0m: No module named 'numpy'"
     ]
    }
   ],
   "source": [
    "import numpy as np\n",
    "\n",
    "# Decimal Scaling Normalization\n",
    "def decimal_scaling(data):\n",
    "    data = data.astype(float)  # Convert to float type explicitly\n",
    "    max_abs = np.max(np.abs(data))\n",
    "    j = 1\n",
    "    while max_abs >= 1:\n",
    "        data /= 10\n",
    "        max_abs = np.max(np.abs(data))\n",
    "        j += 1\n",
    "    return data, j\n",
    "\n",
    "# Min-Max Normalization\n",
    "def min_max_normalization(data, new_min, new_max):\n",
    "    min_val = np.min(data)\n",
    "    max_val = np.max(data)\n",
    "    normalized = new_min + ((data - min_val) * (new_max - new_min)) / (max_val - min_val)\n",
    "    return normalized\n",
    "\n",
    "# Z-score Normalization\n",
    "def z_score_normalization(data):\n",
    "    mean = np.mean(data)\n",
    "    std_dev = np.std(data)\n",
    "    normalized = (data - mean) / std_dev\n",
    "    return normalized\n",
    "\n",
    "# Example data\n",
    "input_data = np.array([-10, 201, 301, -401, 501, 601, 701])\n",
    "\n",
    "# Decimal Scaling\n",
    "normalized_decimal, j = decimal_scaling(input_data.copy())\n",
    "print(\"Decimal Scaling Normalization:\")\n",
    "print(\"Normalized Data:\", normalized_decimal)\n",
    "print(\"j value:\", j)\n",
    "\n",
    "# Min-Max Normalization\n",
    "new_min_value = 0.0\n",
    "new_max_value = 1.0\n",
    "normalized_min_max = min_max_normalization(input_data.copy(), new_min_value, new_max_value)\n",
    "print(\"\\nMin-Max Normalization:\")\n",
    "print(\"Normalized Data:\", normalized_min_max)\n",
    "\n",
    "# Z-score Normalization\n",
    "normalized_z_score = z_score_normalization(input_data.copy())\n",
    "print(\"\\nZ-score Normalization:\")\n",
    "print(\"Normalized Data:\", normalized_z_score)\n"
   ]
  }
 ],
 "metadata": {
  "kernelspec": {
   "display_name": "Python 3 (ipykernel)",
   "language": "python",
   "name": "python3"
  },
  "language_info": {
   "codemirror_mode": {
    "name": "ipython",
    "version": 3
   },
   "file_extension": ".py",
   "mimetype": "text/x-python",
   "name": "python",
   "nbconvert_exporter": "python",
   "pygments_lexer": "ipython3",
   "version": "3.11.5"
  }
 },
 "nbformat": 4,
 "nbformat_minor": 5
}
