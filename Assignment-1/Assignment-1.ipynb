{
 "cells": [
  {
   "cell_type": "code",
   "execution_count": 17,
   "id": "20d86203",
   "metadata": {},
   "outputs": [],
   "source": [
    "import pandas as pd\n",
    "import statistics\n",
    "\n",
    "dataset = pd.read_csv(\"Iris.csv\")"
   ]
  },
  {
   "cell_type": "code",
   "execution_count": 18,
   "id": "d65959ac",
   "metadata": {},
   "outputs": [
    {
     "data": {
      "text/html": [
       "<div>\n",
       "<style scoped>\n",
       "    .dataframe tbody tr th:only-of-type {\n",
       "        vertical-align: middle;\n",
       "    }\n",
       "\n",
       "    .dataframe tbody tr th {\n",
       "        vertical-align: top;\n",
       "    }\n",
       "\n",
       "    .dataframe thead th {\n",
       "        text-align: right;\n",
       "    }\n",
       "</style>\n",
       "<table border=\"1\" class=\"dataframe\">\n",
       "  <thead>\n",
       "    <tr style=\"text-align: right;\">\n",
       "      <th></th>\n",
       "      <th>Id</th>\n",
       "      <th>SepalLengthCm</th>\n",
       "      <th>SepalWidthCm</th>\n",
       "      <th>PetalLengthCm</th>\n",
       "      <th>PetalWidthCm</th>\n",
       "      <th>Species</th>\n",
       "    </tr>\n",
       "  </thead>\n",
       "  <tbody>\n",
       "    <tr>\n",
       "      <th>0</th>\n",
       "      <td>1</td>\n",
       "      <td>5.1</td>\n",
       "      <td>3.5</td>\n",
       "      <td>1.4</td>\n",
       "      <td>0.2</td>\n",
       "      <td>Iris-setosa</td>\n",
       "    </tr>\n",
       "    <tr>\n",
       "      <th>1</th>\n",
       "      <td>2</td>\n",
       "      <td>4.9</td>\n",
       "      <td>3.0</td>\n",
       "      <td>1.4</td>\n",
       "      <td>0.2</td>\n",
       "      <td>Iris-setosa</td>\n",
       "    </tr>\n",
       "    <tr>\n",
       "      <th>2</th>\n",
       "      <td>3</td>\n",
       "      <td>4.7</td>\n",
       "      <td>3.2</td>\n",
       "      <td>1.3</td>\n",
       "      <td>0.2</td>\n",
       "      <td>Iris-setosa</td>\n",
       "    </tr>\n",
       "    <tr>\n",
       "      <th>3</th>\n",
       "      <td>4</td>\n",
       "      <td>4.6</td>\n",
       "      <td>3.1</td>\n",
       "      <td>1.5</td>\n",
       "      <td>0.2</td>\n",
       "      <td>Iris-setosa</td>\n",
       "    </tr>\n",
       "    <tr>\n",
       "      <th>4</th>\n",
       "      <td>5</td>\n",
       "      <td>5.0</td>\n",
       "      <td>3.6</td>\n",
       "      <td>1.4</td>\n",
       "      <td>0.2</td>\n",
       "      <td>Iris-setosa</td>\n",
       "    </tr>\n",
       "  </tbody>\n",
       "</table>\n",
       "</div>"
      ],
      "text/plain": [
       "   Id  SepalLengthCm  SepalWidthCm  PetalLengthCm  PetalWidthCm      Species\n",
       "0   1            5.1           3.5            1.4           0.2  Iris-setosa\n",
       "1   2            4.9           3.0            1.4           0.2  Iris-setosa\n",
       "2   3            4.7           3.2            1.3           0.2  Iris-setosa\n",
       "3   4            4.6           3.1            1.5           0.2  Iris-setosa\n",
       "4   5            5.0           3.6            1.4           0.2  Iris-setosa"
      ]
     },
     "execution_count": 18,
     "metadata": {},
     "output_type": "execute_result"
    }
   ],
   "source": [
    "dataset.head()"
   ]
  },
  {
   "cell_type": "code",
   "execution_count": 19,
   "id": "dd8bc914",
   "metadata": {},
   "outputs": [],
   "source": [
    "column = dataset['SepalLengthCm']"
   ]
  },
  {
   "cell_type": "code",
   "execution_count": 20,
   "id": "06f04097",
   "metadata": {},
   "outputs": [],
   "source": [
    "mean_with_library = column.mean()\n",
    "median_with_library = column.median()\n",
    "mode_with_library = column.mode().values[0]"
   ]
  },
  {
   "cell_type": "code",
   "execution_count": 21,
   "id": "292f3975",
   "metadata": {},
   "outputs": [],
   "source": [
    "variance_with_library = column.var()\n",
    "standard_deviation_with_library = column.std()"
   ]
  },
  {
   "cell_type": "code",
   "execution_count": 22,
   "id": "5cfbf8f8",
   "metadata": {},
   "outputs": [],
   "source": [
    "mean_without_library = sum(column) / len(column)\n",
    "\n",
    "sorted_column = sorted(column)\n",
    "n = len(sorted_column)\n",
    "if n % 2 == 0:\n",
    "    mid1 = sorted_column[n // 2]\n",
    "    mid2 = sorted_column[n // 2 - 1]\n",
    "    median_without_library = (mid1 + mid2) / 2\n",
    "else:\n",
    "    median_without_library = sorted_column[n // 2]\n",
    "\n",
    "counts = {}\n",
    "for value in column:\n",
    "    if value in counts:\n",
    "        counts[value] += 1\n",
    "    else:\n",
    "        counts[value] = 1\n",
    "\n",
    "max_count = max(counts.values())\n",
    "modes_without_library = [value for value, count in counts.items() if count == max_count]\n",
    "mode_without_library = modes_without_library[0]"
   ]
  },
  {
   "cell_type": "code",
   "execution_count": 23,
   "id": "13f9227d",
   "metadata": {},
   "outputs": [],
   "source": [
    "squared_diffs = [(value - mean_without_library) ** 2 for value in column]\n",
    "variance_without_library = sum(squared_diffs) / len(column)\n",
    "standard_deviation_without_library = variance_without_library ** 0.5"
   ]
  },
  {
   "cell_type": "code",
   "execution_count": 24,
   "id": "0955f065",
   "metadata": {},
   "outputs": [
    {
     "name": "stdout",
     "output_type": "stream",
     "text": [
      "1.\n",
      "Mean (with library): 5.843333333333334\n",
      "Mean (without library): 5.843333333333335\n",
      "Median (with library): 5.8\n",
      "Median (without library): 5.8\n",
      "Mode (with library): 5.0\n",
      "Mode (without library): 5.0\n",
      "2.\n",
      "Variance (with library): 0.6856935123042505\n",
      "Variance (without library): 0.6811222222222222\n",
      "Standard Deviation (with library): 0.8280661279778629\n",
      "Standard Deviation (without library): 0.8253012917851409\n"
     ]
    }
   ],
   "source": [
    "print(\"1.\")\n",
    "print(\"Mean (with library):\", mean_with_library)\n",
    "print(\"Mean (without library):\", mean_without_library)\n",
    "print(\"Median (with library):\", median_with_library)\n",
    "print(\"Median (without library):\", median_without_library)\n",
    "print(\"Mode (with library):\", mode_with_library)\n",
    "print(\"Mode (without library):\", mode_without_library)\n",
    "print(\"2.\")\n",
    "print(\"Variance (with library):\", variance_with_library)\n",
    "print(\"Variance (without library):\", variance_without_library)\n",
    "print(\"Standard Deviation (with library):\", standard_deviation_with_library)\n",
    "print(\"Standard Deviation (without library):\", standard_deviation_without_library)"
   ]
  },
  {
   "cell_type": "code",
   "execution_count": 26,
   "id": "725dac5e",
   "metadata": {},
   "outputs": [
    {
     "name": "stdout",
     "output_type": "stream",
     "text": [
      "Sum: 15\n",
      "Largest number: 25\n"
     ]
    }
   ],
   "source": [
    "#Program find the sum of all elements in a list:\n",
    "numbers = [1, 2, 3, 4, 5]\n",
    "sum_of_numbers = sum(numbers)\n",
    "print(\"Sum:\", sum_of_numbers)\n",
    "\n",
    "#Program to find the largest element in a list:\n",
    "numbers = [10, 5, 20, 15, 25]\n",
    "max_number = max(numbers)\n",
    "print(\"Largest number:\", max_number)"
   ]
  },
  {
   "cell_type": "code",
   "execution_count": 27,
   "id": "848984b7",
   "metadata": {},
   "outputs": [
    {
     "name": "stdout",
     "output_type": "stream",
     "text": [
      "apple\n",
      "banana\n",
      "(1, 2, 3, 4, 5, 6)\n"
     ]
    }
   ],
   "source": [
    "#Program to access elements of a tuple:\n",
    "fruits = (\"apple\", \"banana\", \"cherry\")\n",
    "print(fruits[0])\n",
    "print(fruits[1])\n",
    "\n",
    "#Program to concatenate two tuples:\n",
    "tuple1 = (1, 2, 3)\n",
    "tuple2 = (4, 5, 6)\n",
    "concatenated_tuple = tuple1 + tuple2\n",
    "print(concatenated_tuple)"
   ]
  },
  {
   "cell_type": "code",
   "execution_count": 28,
   "id": "446d14e6",
   "metadata": {},
   "outputs": [
    {
     "name": "stdout",
     "output_type": "stream",
     "text": [
      "name : John\n",
      "age : 20\n",
      "grade : A\n"
     ]
    }
   ],
   "source": [
    "#Program to iterate over dictionary items:\n",
    "student = {\"name\": \"John\", \"age\": 20, \"grade\": \"A\"}\n",
    "for key, value in student.items():\n",
    "    print(key, \":\", value)\n",
    "\n",
    "#Program to check if a key exists in a dictionary:\n",
    "student = {\"name\": \"John\", \"age\": 20, \"grade\": \"A\"}\n",
    "if \"\" in student:\n",
    "    print(\"Age exists in the dictionary.\")"
   ]
  },
  {
   "cell_type": "code",
   "execution_count": 29,
   "id": "9987f094",
   "metadata": {},
   "outputs": [
    {
     "name": "stdout",
     "output_type": "stream",
     "text": [
      "Occurrences of l : 3\n",
      "radar is a palindrome.\n"
     ]
    }
   ],
   "source": [
    "#Program to count the occurrences of a character a string:\n",
    "sentence = \"Hello, World!\"\n",
    "char = \"l\"\n",
    "count = sentence.count(char)\n",
    "print(\"Occurrences of\", char, \":\", count)\n",
    "\n",
    "#Program to check if a string is a palindrome:\n",
    "def is_palindrome(string):\n",
    "    reversed_string = string[::-1]\n",
    "    return string == reversed_string\n",
    "\n",
    "word = \"radar\"\n",
    "if is_palindrome(word):\n",
    "    print(word, \"is a palindrome.\")\n",
    "else:\n",
    "    print(word, \"is not a palindrome.\")"
   ]
  },
  {
   "cell_type": "code",
   "execution_count": null,
   "id": "3fdb1a94",
   "metadata": {},
   "outputs": [],
   "source": []
  }
 ],
 "metadata": {
  "kernelspec": {
   "display_name": "Python 3 (ipykernel)",
   "language": "python",
   "name": "python3"
  },
  "language_info": {
   "codemirror_mode": {
    "name": "ipython",
    "version": 3
   },
   "file_extension": ".py",
   "mimetype": "text/x-python",
   "name": "python",
   "nbconvert_exporter": "python",
   "pygments_lexer": "ipython3",
   "version": "3.11.3"
  }
 },
 "nbformat": 4,
 "nbformat_minor": 5
}
