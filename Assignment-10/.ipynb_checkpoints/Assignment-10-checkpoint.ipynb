{
 "cells": [
  {
   "cell_type": "code",
   "execution_count": 1,
   "id": "88f96174-04a8-4a71-bfef-d1e12a8cd33c",
   "metadata": {},
   "outputs": [
    {
     "ename": "ModuleNotFoundError",
     "evalue": "No module named 'numpy'",
     "output_type": "error",
     "traceback": [
      "\u001b[0;31m---------------------------------------------------------------------------\u001b[0m",
      "\u001b[0;31mModuleNotFoundError\u001b[0m                       Traceback (most recent call last)",
      "Cell \u001b[0;32mIn[1], line 1\u001b[0m\n\u001b[0;32m----> 1\u001b[0m \u001b[38;5;28;01mimport\u001b[39;00m \u001b[38;5;21;01mnumpy\u001b[39;00m \u001b[38;5;28;01mas\u001b[39;00m \u001b[38;5;21;01mnp\u001b[39;00m\n\u001b[1;32m      2\u001b[0m \u001b[38;5;28;01mfrom\u001b[39;00m \u001b[38;5;21;01msklearn_extra\u001b[39;00m\u001b[38;5;21;01m.\u001b[39;00m\u001b[38;5;21;01mcluster\u001b[39;00m \u001b[38;5;28;01mimport\u001b[39;00m KMedoids\n\u001b[1;32m      4\u001b[0m \u001b[38;5;66;03m# Sample cost matrix (replace this with your actual cost matrix)\u001b[39;00m\n",
      "\u001b[0;31mModuleNotFoundError\u001b[0m: No module named 'numpy'"
     ]
    }
   ],
   "source": [
    "import numpy as np\n",
    "from sklearn_extra.cluster import KMedoids\n",
    "\n",
    "# Sample cost matrix (replace this with your actual cost matrix)\n",
    "cost_matrix = np.random.rand(10, 10)\n",
    "\n",
    "# Number of clusters\n",
    "k = 3\n",
    "\n",
    "# Perform K-medoids clustering\n",
    "kmedoids = KMedoids(n_clusters=k, metric='precomputed', init='k-medoids++', max_iter=100, tol=1e-6)\n",
    "kmedoids.fit(cost_matrix)\n",
    "\n",
    "# Get clustering results\n",
    "medoids = kmedoids.medoid_indices_\n",
    "assignments = kmedoids.labels_\n",
    "cluster_counts = np.bincount(assignments)\n",
    "\n",
    "# Print clustering results\n",
    "print(\"Medoids:\", medoids)\n",
    "print(\"Assignments:\", assignments)\n",
    "print(\"Cluster counts:\", cluster_counts)\n",
    "print(\"Total cost:\", kmedoids.inertia_)\n",
    "print(\"Converged:\", kmedoids.converged_)\n"
   ]
  },
  {
   "cell_type": "code",
   "execution_count": null,
   "id": "03e46e5f-0220-4c8b-871d-0f66ed023718",
   "metadata": {},
   "outputs": [],
   "source": []
  }
 ],
 "metadata": {
  "kernelspec": {
   "display_name": "Python 3 (ipykernel)",
   "language": "python",
   "name": "python3"
  },
  "language_info": {
   "codemirror_mode": {
    "name": "ipython",
    "version": 3
   },
   "file_extension": ".py",
   "mimetype": "text/x-python",
   "name": "python",
   "nbconvert_exporter": "python",
   "pygments_lexer": "ipython3",
   "version": "3.11.5"
  }
 },
 "nbformat": 4,
 "nbformat_minor": 5
}
