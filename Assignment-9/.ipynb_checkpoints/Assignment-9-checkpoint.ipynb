{
 "cells": [
  {
   "cell_type": "code",
   "execution_count": 3,
   "id": "3a26854b-0f5f-4cbf-812a-a86b1fb381de",
   "metadata": {},
   "outputs": [
    {
     "ename": "SyntaxError",
     "evalue": "invalid syntax (3501342156.py, line 1)",
     "output_type": "error",
     "traceback": [
      "\u001b[0;36m  Cell \u001b[0;32mIn[3], line 1\u001b[0;36m\u001b[0m\n\u001b[0;31m    using Clustering, RDatasets, Gadfly\u001b[0m\n\u001b[0m          ^\u001b[0m\n\u001b[0;31mSyntaxError\u001b[0m\u001b[0;31m:\u001b[0m invalid syntax\n"
     ]
    }
   ],
   "source": [
    "import numpy as np\n",
    "import pandas as pd\n",
    "from sklearn.cluster import KMeans\n",
    "import matplotlib.pyplot as plt\n",
    "\n",
    "# Make a random dataset with 1000 points, each a 5-dimensional vector\n",
    "X = np.random.rand(1000, 5)\n",
    "\n",
    "# Perform K-means over X, trying to group them into 20 clusters\n",
    "# Set maximum number of iterations to 200\n",
    "# Set display to :iter, so it shows progressive info at each iteration\n",
    "kmeans = KMeans(n_clusters=20, max_iter=200, verbose=2)\n",
    "R = kmeans.fit(X)\n",
    "\n",
    "# The number of resultant clusters should be 20\n",
    "assert R.n_clusters == 20\n",
    "\n",
    "# Obtain the resultant assignments\n",
    "# a[i] indicates which cluster the i-th sample is assigned to\n",
    "a = R.labels_\n",
    "\n",
    "# Obtain the number of samples in each cluster\n",
    "# c[k] is the number of samples assigned to the k-th cluster\n",
    "c = np.bincount(a)\n",
    "\n",
    "# Get the centers (i.e., mean vectors)\n",
    "# M is a matrix of size (20, 5)\n",
    "# M[k] is the mean vector of the k-th cluster\n",
    "M = R.cluster_centers_\n",
    "\n",
    "# Load the Iris dataset\n",
    "iris = pd.read_csv('Iris.csv')\n",
    "\n",
    "# Extract features (first 4 columns) from the Iris dataset\n",
    "features = iris[['sepal_length', 'sepal_width', 'petal_length', 'petal_width']]\n",
    "\n",
    "# Perform K-means clustering onto 3 clusters\n",
    "kmeans_iris = KMeans(n_clusters=3)\n",
    "result = kmeans_iris.fit(features)\n",
    "\n",
    "# Plot the Iris dataset based on PetalLength and PetalWidth with color-coded clusters\n",
    "plt.scatter(iris['petal_length'], iris['petal_width'], c=result.labels_, cmap='viridis')\n",
    "plt.xlabel('Petal Length')\n",
    "plt.ylabel('Petal Width')\n",
    "plt.title('K-means Clustering of Iris dataset')\n",
    "plt.show()\n"
   ]
  },
  {
   "cell_type": "code",
   "execution_count": null,
   "id": "f021d133-84ac-4dbd-88d2-7b90afe84438",
   "metadata": {},
   "outputs": [],
   "source": []
  }
 ],
 "metadata": {
  "kernelspec": {
   "display_name": "Python 3 (ipykernel)",
   "language": "python",
   "name": "python3"
  },
  "language_info": {
   "codemirror_mode": {
    "name": "ipython",
    "version": 3
   },
   "file_extension": ".py",
   "mimetype": "text/x-python",
   "name": "python",
   "nbconvert_exporter": "python",
   "pygments_lexer": "ipython3",
   "version": "3.11.5"
  }
 },
 "nbformat": 4,
 "nbformat_minor": 5
}
